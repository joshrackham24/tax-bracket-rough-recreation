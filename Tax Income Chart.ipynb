{
 "cells": [
  {
   "cell_type": "code",
   "execution_count": 2,
   "metadata": {},
   "outputs": [],
   "source": [
    "# My standard header/imports\n",
    "\n",
    "import numpy as np\n",
    "import math\n",
    "from datascience import *\n",
    "\n",
    "# These lines set up the plotting functionality and formatting.\n",
    "import matplotlib\n",
    "matplotlib.use('Agg', warn=False)\n",
    "%matplotlib inline\n",
    "import matplotlib.pyplot as plots\n",
    "plots.style.use('fivethirtyeight')\n",
    "import warnings\n",
    "warnings.simplefilter(action=\"ignore\", category=FutureWarning)\n",
    "warnings.simplefilter('ignore', UserWarning)"
   ]
  },
  {
   "cell_type": "code",
   "execution_count": 19,
   "metadata": {},
   "outputs": [],
   "source": [
    "# Income values to plot\n",
    "incomes = np.arange(0, 500005, 5)\n",
    "\n",
    "def tax_amount(income_list):\n",
    "    \"\"\"Given an array of incomes, this returns the associated array of tax amounts given the 2018 tax brackets\"\"\"\n",
    "    first_bracket_limit  = 9525\n",
    "    first_bracket_rate   = 0.1\n",
    "    first_bracket_sum    = first_bracket_limit * first_bracket_rate\n",
    "    second_bracket_limit = 38700\n",
    "    second_bracket_rate  = 0.12\n",
    "    second_bracket_sum   = second_bracket_limit * second_bracket_rate\n",
    "    third_bracket_limit  = 82500\n",
    "    third_bracket_rate   = 0.22\n",
    "    third_bracket_sum    = third_bracket_limit * third_bracket_rate\n",
    "    fourth_bracket_limit = 157500\n",
    "    fourth_bracket_rate  = 0.24\n",
    "    fourth_bracket_sum   = fourth_bracket_limit * fourth_bracket_rate\n",
    "    fifth_bracket_limit  = 200000\n",
    "    fifth_bracket_rate   = 0.32\n",
    "    fifth_bracket_sum    = fifth_bracket_limit * fifth_bracket_rate\n",
    "    sixth_bracket_limit  = 500000\n",
    "    sixth_bracket_rate   = 0.35\n",
    "    \n",
    "    # Corresponding amount of taxes being paid\n",
    "    taxes = []\n",
    "    for income in income_list:\n",
    "        # First Bracket Taxes\n",
    "        if income <= first_bracket_limit:\n",
    "            taxes.append(income*first_bracket_rate)\n",
    "            \n",
    "        # Second Bracket Taxes\n",
    "        elif income > first_bracket_limit and income <= second_bracket_limit:\n",
    "            tax = first_bracket_sum + (income - first_bracket_limit)*second_bracket_rate\n",
    "            taxes.append(tax)\n",
    "        \n",
    "        # Third Bracket Taxes\n",
    "        elif income > second_bracket_limit and income <= third_bracket_limit:\n",
    "            tax = first_bracket_sum + second_bracket_sum + (income - second_bracket_limit)*third_bracket_rate\n",
    "            taxes.append(tax)\n",
    "        \n",
    "        # Fourth Bracket Taxes\n",
    "        elif income > third_bracket_limit and income <= fourth_bracket_limit:\n",
    "            tax = first_bracket_sum + second_bracket_sum + third_bracket_sum + (income - third_bracket_limit)*fourth_bracket_rate\n",
    "            taxes.append(tax)\n",
    "\n",
    "        # Fifth Bracket Taxes\n",
    "        elif income > fourth_bracket_limit and income <= fifth_bracket_limit:\n",
    "            tax = first_bracket_sum + second_bracket_sum + third_bracket_sum + fourth_bracket_sum + (income - fourth_bracket_limit)*fifth_bracket_rate\n",
    "            taxes.append(tax)\n",
    "            \n",
    "        # Sixth Bracket Taxes\n",
    "        elif income > fifth_bracket_limit and income <= sixth_bracket_limit:\n",
    "            tax = first_bracket_sum + second_bracket_sum + third_bracket_sum + fourth_bracket_sum + fifth_bracket_sum + (income - fifth_bracket_limit)*sixth_bracket_rate\n",
    "            taxes.append(tax)         \n",
    "            \n",
    "    return taxes\n",
    "\n",
    "tax_amounts = tax_amount(incomes)         "
   ]
  },
  {
   "cell_type": "code",
   "execution_count": 21,
   "metadata": {},
   "outputs": [
    {
     "data": {
      "image/png": "[encoded data removed]",
      "text/plain": [
       "<Figure size 432x288 with 1 Axes>"
      ]
     },
     "metadata": {},
     "output_type": "display_data"
    }
   ],
   "source": [
    "plots.plot(incomes, tax_amounts, linewidth=0.75)\n",
    "plots.show()"
   ]
  },
  {
   "cell_type": "code",
   "execution_count": null,
   "metadata": {},
   "outputs": [],
   "source": []
  }
 ],
 "metadata": {
  "kernelspec": {
   "display_name": "Python 3",
   "language": "python",
   "name": "python3"
  },
  "language_info": {
   "codemirror_mode": {
    "name": "ipython",
    "version": 3
   },
   "file_extension": ".py",
   "mimetype": "text/x-python",
   "name": "python",
   "nbconvert_exporter": "python",
   "pygments_lexer": "ipython3",
   "version": "3.7.0"
  }
 },
 "nbformat": 4,
 "nbformat_minor": 2
}
